{
  "cells": [
    {
      "metadata": {
        "collapsed": true
      },
      "cell_type": "markdown",
      "source": "# Introduction\n\n`plotnine`是一个数据可视化库，它实现了图形的**语法**。 图形语法是数据可视化API设计的一种方法，它与我们迄今为止看到的库所遵循的方式相差甚远。\n\n数据可视化设计过程从创建图形（1）开始，调整该图形的几何形状（2），然后调整该图形的美学（3）。 正如我们在关于样式样式的部分中看到的那样，这使得事情变得比他们需要的更难（我什么时候可以使用参数？我何时需要一个方法？），并创建一个众所周知的用户痛点。\n\n图形语法解决了这个棘手的问题。 在基于图形的库（如`plotnine`）的语法中，*每个*操作以相同的方式表达：使用函数。 在`plotnine`中，我们通过“累加”我们的元素来创建图形：\n\n![](https://i.imgur.com/UoIbtqI.png)\n\n** Data **元素是对`ggplot`的调用，它填充图中的数据。 **美学**由`aes`功能控制，它填充我们的视觉变量：颜色，形状等。 最后，**图层**是添加或修改图表本身的函数。\n\n`plotnine`图由这三种类型的函数组成，这些函数与加号（`+`）运算符连接在一起。 结果是一种极具表现力的构建图表的方式！\n\n让我们跳进`plotnine`，看看这个图形语法在起作用。"
    },
    {
      "metadata": {
        "trusted": true
      },
      "cell_type": "code",
      "source": "import pandas as pd\nreviews = pd.read_csv(\"./input/winemag-data-130k-v2.csv\", index_col=0)\nreviews.head(3)",
      "execution_count": 1,
      "outputs": [
        {
          "output_type": "execute_result",
          "execution_count": 1,
          "data": {
            "text/html": "<div>\n<style scoped>\n    .dataframe tbody tr th:only-of-type {\n        vertical-align: middle;\n    }\n\n    .dataframe tbody tr th {\n        vertical-align: top;\n    }\n\n    .dataframe thead th {\n        text-align: right;\n    }\n</style>\n<table border=\"1\" class=\"dataframe\">\n  <thead>\n    <tr style=\"text-align: right;\">\n      <th></th>\n      <th>country</th>\n      <th>description</th>\n      <th>designation</th>\n      <th>points</th>\n      <th>price</th>\n      <th>province</th>\n      <th>region_1</th>\n      <th>region_2</th>\n      <th>taster_name</th>\n      <th>taster_twitter_handle</th>\n      <th>title</th>\n      <th>variety</th>\n      <th>winery</th>\n    </tr>\n  </thead>\n  <tbody>\n    <tr>\n      <th>0</th>\n      <td>Italy</td>\n      <td>Aromas include tropical fruit, broom, brimston...</td>\n      <td>Vulkà Bianco</td>\n      <td>87</td>\n      <td>NaN</td>\n      <td>Sicily &amp; Sardinia</td>\n      <td>Etna</td>\n      <td>NaN</td>\n      <td>Kerin O’Keefe</td>\n      <td>@kerinokeefe</td>\n      <td>Nicosia 2013 Vulkà Bianco  (Etna)</td>\n      <td>White Blend</td>\n      <td>Nicosia</td>\n    </tr>\n    <tr>\n      <th>1</th>\n      <td>Portugal</td>\n      <td>This is ripe and fruity, a wine that is smooth...</td>\n      <td>Avidagos</td>\n      <td>87</td>\n      <td>15.0</td>\n      <td>Douro</td>\n      <td>NaN</td>\n      <td>NaN</td>\n      <td>Roger Voss</td>\n      <td>@vossroger</td>\n      <td>Quinta dos Avidagos 2011 Avidagos Red (Douro)</td>\n      <td>Portuguese Red</td>\n      <td>Quinta dos Avidagos</td>\n    </tr>\n    <tr>\n      <th>2</th>\n      <td>US</td>\n      <td>Tart and snappy, the flavors of lime flesh and...</td>\n      <td>NaN</td>\n      <td>87</td>\n      <td>14.0</td>\n      <td>Oregon</td>\n      <td>Willamette Valley</td>\n      <td>Willamette Valley</td>\n      <td>Paul Gregutt</td>\n      <td>@paulgwine</td>\n      <td>Rainstorm 2013 Pinot Gris (Willamette Valley)</td>\n      <td>Pinot Gris</td>\n      <td>Rainstorm</td>\n    </tr>\n  </tbody>\n</table>\n</div>",
            "text/plain": "    country                                        description   designation  \\\n0     Italy  Aromas include tropical fruit, broom, brimston...  Vulkà Bianco   \n1  Portugal  This is ripe and fruity, a wine that is smooth...      Avidagos   \n2        US  Tart and snappy, the flavors of lime flesh and...           NaN   \n\n   points  price           province           region_1           region_2  \\\n0      87    NaN  Sicily & Sardinia               Etna                NaN   \n1      87   15.0              Douro                NaN                NaN   \n2      87   14.0             Oregon  Willamette Valley  Willamette Valley   \n\n     taster_name taster_twitter_handle  \\\n0  Kerin O’Keefe          @kerinokeefe   \n1     Roger Voss            @vossroger   \n2   Paul Gregutt           @paulgwine    \n\n                                           title         variety  \\\n0              Nicosia 2013 Vulkà Bianco  (Etna)     White Blend   \n1  Quinta dos Avidagos 2011 Avidagos Red (Douro)  Portuguese Red   \n2  Rainstorm 2013 Pinot Gris (Willamette Valley)      Pinot Gris   \n\n                winery  \n0              Nicosia  \n1  Quinta dos Avidagos  \n2            Rainstorm  "
          },
          "metadata": {}
        }
      ]
    },
    {
      "metadata": {
        "trusted": true
      },
      "cell_type": "code",
      "source": "from plotnine import *\n\ntop_wines = reviews[reviews['variety'].isin(reviews['variety'].value_counts().head(5).index)]",
      "execution_count": 2,
      "outputs": [
        {
          "output_type": "error",
          "ename": "ModuleNotFoundError",
          "evalue": "No module named 'plotnine'",
          "traceback": [
            "\u001b[0;31m---------------------------------------------------------------------------\u001b[0m",
            "\u001b[0;31mModuleNotFoundError\u001b[0m                       Traceback (most recent call last)",
            "\u001b[0;32m<ipython-input-2-b3264484ef7c>\u001b[0m in \u001b[0;36m<module>\u001b[0;34m()\u001b[0m\n\u001b[0;32m----> 1\u001b[0;31m \u001b[0;32mfrom\u001b[0m \u001b[0mplotnine\u001b[0m \u001b[0;32mimport\u001b[0m \u001b[0;34m*\u001b[0m\u001b[0;34m\u001b[0m\u001b[0m\n\u001b[0m\u001b[1;32m      2\u001b[0m \u001b[0;34m\u001b[0m\u001b[0m\n\u001b[1;32m      3\u001b[0m \u001b[0mtop_wines\u001b[0m \u001b[0;34m=\u001b[0m \u001b[0mreviews\u001b[0m\u001b[0;34m[\u001b[0m\u001b[0mreviews\u001b[0m\u001b[0;34m[\u001b[0m\u001b[0;34m'variety'\u001b[0m\u001b[0;34m]\u001b[0m\u001b[0;34m.\u001b[0m\u001b[0misin\u001b[0m\u001b[0;34m(\u001b[0m\u001b[0mreviews\u001b[0m\u001b[0;34m[\u001b[0m\u001b[0;34m'variety'\u001b[0m\u001b[0;34m]\u001b[0m\u001b[0;34m.\u001b[0m\u001b[0mvalue_counts\u001b[0m\u001b[0;34m(\u001b[0m\u001b[0;34m)\u001b[0m\u001b[0;34m.\u001b[0m\u001b[0mhead\u001b[0m\u001b[0;34m(\u001b[0m\u001b[0;36m5\u001b[0m\u001b[0;34m)\u001b[0m\u001b[0;34m.\u001b[0m\u001b[0mindex\u001b[0m\u001b[0;34m)\u001b[0m\u001b[0;34m]\u001b[0m\u001b[0;34m\u001b[0m\u001b[0m\n",
            "\u001b[0;31mModuleNotFoundError\u001b[0m: No module named 'plotnine'"
          ]
        }
      ]
    },
    {
      "metadata": {},
      "cell_type": "markdown",
      "source": "## The grammar of graphics (图形语法)\n\n我们的出发点是一个简单的散点图："
    },
    {
      "metadata": {
        "trusted": true
      },
      "cell_type": "code",
      "source": "df = top_wines.head(1000).dropna()\n\n(ggplot(df)\n + aes('points', 'price')\n + geom_point())",
      "execution_count": null,
      "outputs": []
    },
    {
      "metadata": {},
      "cell_type": "markdown",
      "source": "注意情节如何顺利地分解为三个单独的操作。 首先，我们使用`ggplot`初始化绘图，将输入数据（`df`）作为参数传递（**数据**）。 然后我们在“aes”（**美学**）中添加感兴趣的变量。 最后我们指定了绘图类型（**层**）：`geom_point`。\n\n要不断改变情节，只需继续添加内容即可。 您可以添加带有“stat_smooth”图层的回归线："
    },
    {
      "metadata": {
        "trusted": true
      },
      "cell_type": "code",
      "source": "df = top_wines.head(1000).dropna()\n\n(\n    ggplot(df)\n        + aes('points', 'price')\n        + geom_point()\n        + stat_smooth()\n)",
      "execution_count": null,
      "outputs": []
    },
    {
      "metadata": {},
      "cell_type": "markdown",
      "source": "要添加颜色，请添加“颜色”的“aes”："
    },
    {
      "metadata": {
        "trusted": true
      },
      "cell_type": "code",
      "source": "df = top_wines.head(1000).dropna()\n\n(\n    ggplot(df)\n        + geom_point()\n        + aes(color='points')\n        + aes('points', 'price')\n        + stat_smooth()\n)",
      "execution_count": null,
      "outputs": []
    },
    {
      "metadata": {},
      "cell_type": "markdown",
      "source": "要应用分面，请使用`facet_wrap`。"
    },
    {
      "metadata": {
        "trusted": true
      },
      "cell_type": "code",
      "source": "df = top_wines.head(1000).dropna()\n\n(ggplot(df)\n     + aes('points', 'price')\n     + aes(color='points')\n     + geom_point()\n     + stat_smooth()\n     + facet_wrap('~variety')\n)",
      "execution_count": null,
      "outputs": []
    },
    {
      "metadata": {},
      "cell_type": "markdown",
      "source": "注意情节的每个变异如何需要添加一个东西，以及每次如何将它们放到同一个地方（我们只是添加它）。通过对“plotnine”中有效函数的一些了解，我们需要做出的每一个改变都是*显而易见的*。而这种“显而易见”感就是图书馆的全部意义！\n\n分面是一个非常好的例子。使用`plotnine`，一旦我们意识到我们需要刻面，我们就可以立即添加它＆mdash;只需将`facet_wrap`附加到最后。使用`seaborn`，我们将不得不改变我们的整个方法：我们需要计算一个正确参数化的`FacetGrid`，在*我们的绘图代码之前插入*，并且（可能）重写我们的绘图函数，使其“适合”内部`FacetGrid`。\n\nMoverover，修改输出就像向链中添加一个方法一样简单。由于我们所做的每项修改都是独立的，因此我们可以在任\n\n例如，在迄今为止的所有情节中，我们已经将图表美学（“aes”）看作一个单独的功能元素;但是，`aes`也可以显示为* layer *参数："
    },
    {
      "metadata": {
        "trusted": true
      },
      "cell_type": "code",
      "source": "(ggplot(df)\n + geom_point(aes('points', 'price'))\n)",
      "execution_count": null,
      "outputs": []
    },
    {
      "metadata": {},
      "cell_type": "markdown",
      "source": "或者作为整体*data*中的参数："
    },
    {
      "metadata": {
        "trusted": true
      },
      "cell_type": "code",
      "source": "(ggplot(df, aes('points', 'price'))\n + geom_point()\n)",
      "execution_count": null,
      "outputs": []
    },
    {
      "metadata": {},
      "cell_type": "markdown",
      "source": "注意这些图是如何完全等价的！"
    },
    {
      "metadata": {},
      "cell_type": "markdown",
      "source": "## More plotnine(更多情节)\n\n`plotnine`实际上是一个忠实的Python端口，它是现在非常着名的图形语法概念的创始人，`ggplot2`库，由名人程序员Hadley Wickham发布的R包。 （对于Python，不寻常）使用`+`运算符模仿它在`ggplot2`中的用法。\n\n几何图形是“plotnine”的核心，它具有各种复杂程度的几何形状。 例如，`poltnine`条形图是`geom_bar`："
    },
    {
      "metadata": {
        "trusted": true
      },
      "cell_type": "code",
      "source": "(ggplot(top_wines)\n     + aes('points')\n     + geom_bar()\n)",
      "execution_count": null,
      "outputs": []
    },
    {
      "metadata": {},
      "cell_type": "markdown",
      "source": "“plotnine”相当于一个二维直方图的hexplot，是“geom_bin2d”："
    },
    {
      "metadata": {
        "trusted": true
      },
      "cell_type": "code",
      "source": "(ggplot(top_wines)\n     + aes('points', 'variety')\n     + geom_bin2d(bins=20)\n)",
      "execution_count": null,
      "outputs": []
    },
    {
      "metadata": {},
      "cell_type": "markdown",
      "source": "可以混合使用非几何函数调用来更改绘图的结构。 我们已经看过`facet_wrap`; `coord_fixed`和`ggtitle`是另外两个。"
    },
    {
      "metadata": {
        "trusted": true
      },
      "cell_type": "code",
      "source": "(ggplot(top_wines)\n         + aes('points', 'variety')\n         + geom_bin2d(bins=20)\n         + coord_fixed(ratio=1)\n         + ggtitle(\"Top Five Most Common Wine Variety Points Awarded\")\n)",
      "execution_count": null,
      "outputs": []
    },
    {
      "metadata": {},
      "cell_type": "markdown",
      "source": "等等。\n\n有关`plotnine`提供的函数列表，请参阅库中存货丰富的[API参考](https://plotnine.readthedocs.io/en/stable/api.html)。"
    },
    {
      "metadata": {},
      "cell_type": "markdown",
      "source": "# Exercises\n\n对于以下练习，请尝试分叉并运行此笔记本，然后再现下面的图表。"
    },
    {
      "metadata": {
        "trusted": true
      },
      "cell_type": "code",
      "source": "pokemon = pd.read_csv(\"./input/Pokemon1.csv\", index_col=0)\\\n                        .rename(columns=lambda x: x.replace(\" \", \"_\"))\npokemon.head(3)",
      "execution_count": 4,
      "outputs": [
        {
          "output_type": "execute_result",
          "execution_count": 4,
          "data": {
            "text/html": "<div>\n<style scoped>\n    .dataframe tbody tr th:only-of-type {\n        vertical-align: middle;\n    }\n\n    .dataframe tbody tr th {\n        vertical-align: top;\n    }\n\n    .dataframe thead th {\n        text-align: right;\n    }\n</style>\n<table border=\"1\" class=\"dataframe\">\n  <thead>\n    <tr style=\"text-align: right;\">\n      <th></th>\n      <th>Name</th>\n      <th>Type_1</th>\n      <th>Type_2</th>\n      <th>Total</th>\n      <th>HP</th>\n      <th>Attack</th>\n      <th>Defense</th>\n      <th>Sp._Atk</th>\n      <th>Sp._Def</th>\n      <th>Speed</th>\n      <th>Generation</th>\n      <th>Legendary</th>\n    </tr>\n    <tr>\n      <th>#</th>\n      <th></th>\n      <th></th>\n      <th></th>\n      <th></th>\n      <th></th>\n      <th></th>\n      <th></th>\n      <th></th>\n      <th></th>\n      <th></th>\n      <th></th>\n      <th></th>\n    </tr>\n  </thead>\n  <tbody>\n    <tr>\n      <th>1</th>\n      <td>Bulbasaur</td>\n      <td>Grass</td>\n      <td>Poison</td>\n      <td>318</td>\n      <td>45</td>\n      <td>49</td>\n      <td>49</td>\n      <td>65</td>\n      <td>65</td>\n      <td>45</td>\n      <td>1</td>\n      <td>False</td>\n    </tr>\n    <tr>\n      <th>2</th>\n      <td>Ivysaur</td>\n      <td>Grass</td>\n      <td>Poison</td>\n      <td>405</td>\n      <td>60</td>\n      <td>62</td>\n      <td>63</td>\n      <td>80</td>\n      <td>80</td>\n      <td>60</td>\n      <td>1</td>\n      <td>False</td>\n    </tr>\n    <tr>\n      <th>3</th>\n      <td>Venusaur</td>\n      <td>Grass</td>\n      <td>Poison</td>\n      <td>525</td>\n      <td>80</td>\n      <td>82</td>\n      <td>83</td>\n      <td>100</td>\n      <td>100</td>\n      <td>80</td>\n      <td>1</td>\n      <td>False</td>\n    </tr>\n  </tbody>\n</table>\n</div>",
            "text/plain": "        Name Type_1  Type_2  Total  HP  Attack  Defense  Sp._Atk  Sp._Def  \\\n#                                                                           \n1  Bulbasaur  Grass  Poison    318  45      49       49       65       65   \n2    Ivysaur  Grass  Poison    405  60      62       63       80       80   \n3   Venusaur  Grass  Poison    525  80      82       83      100      100   \n\n   Speed  Generation  Legendary  \n#                                \n1     45           1      False  \n2     60           1      False  \n3     80           1      False  "
          },
          "metadata": {}
        }
      ]
    },
    {
      "metadata": {
        "trusted": true
      },
      "cell_type": "code",
      "source": "(\n    ggplot(pokemon, aes('Attack', 'Defense'))\n        + geom_point()\n)",
      "execution_count": null,
      "outputs": []
    },
    {
      "metadata": {
        "trusted": true
      },
      "cell_type": "code",
      "source": "(\n    ggplot(pokemon, aes('Attack', 'Defense', color='Legendary'))\n        + geom_point()\n        + ggtitle(\"Pokemon Attack and Defense by Legendary Status\")\n)",
      "execution_count": null,
      "outputs": []
    },
    {
      "metadata": {
        "trusted": true
      },
      "cell_type": "code",
      "source": "(\n    ggplot(pokemon, aes('Attack'))\n        + geom_histogram(bins=20)\n) + facet_wrap('~Generation')",
      "execution_count": null,
      "outputs": []
    },
    {
      "metadata": {},
      "cell_type": "markdown",
      "source": "# Conclusion\n\n`plotnine`是一个数据可视化库，它实现了图形语法，这是一种值得理解的数据可视化设计的巧妙方法。 希望本节让您熟悉这个想法！"
    },
    {
      "metadata": {
        "trusted": true
      },
      "cell_type": "code",
      "source": "",
      "execution_count": null,
      "outputs": []
    }
  ],
  "metadata": {
    "kernelspec": {
      "name": "python36",
      "display_name": "Python 3.6",
      "language": "python"
    },
    "language_info": {
      "mimetype": "text/x-python",
      "nbconvert_exporter": "python",
      "name": "python",
      "pygments_lexer": "ipython3",
      "version": "3.6.6",
      "file_extension": ".py",
      "codemirror_mode": {
        "version": 3,
        "name": "ipython"
      }
    }
  },
  "nbformat": 4,
  "nbformat_minor": 2
}